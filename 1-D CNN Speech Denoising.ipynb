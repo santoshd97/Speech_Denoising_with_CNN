{
 "cells": [
  {
   "cell_type": "markdown",
   "metadata": {},
   "source": [
    "# <center>Speech Denoising Using 1-D CNN</center>"
   ]
  },
  {
   "cell_type": "code",
   "execution_count": 1,
   "metadata": {},
   "outputs": [
    {
     "name": "stdout",
     "output_type": "stream",
     "text": [
      "WARNING:tensorflow:From /usr/local/lib/python3.7/site-packages/tensorflow_core/python/compat/v2_compat.py:68: disable_resource_variables (from tensorflow.python.ops.variable_scope) is deprecated and will be removed in a future version.\n",
      "Instructions for updating:\n",
      "non-resource variables are not supported in the long term\n"
     ]
    }
   ],
   "source": [
    "import tensorflow as tf, librosa, numpy as np, pandas as pd, matplotlib.pyplot as plt\n",
    "tf.compat.v1.disable_v2_behavior() # Disabling tensorflow v2.0 behavior\n",
    "np.random.seed(7) # Set random seed for numpy\n",
    "tf.random.set_random_seed(7) # Set tensorflow random seed\n",
    "%matplotlib inline"
   ]
  },
  {
   "cell_type": "code",
   "execution_count": 2,
   "metadata": {},
   "outputs": [],
   "source": [
    "# Convert the audio files to spectrograms, matrices of size 513x2459\n",
    "s, sr = librosa.load('train_clean_male.wav', sr = None)\n",
    "S = librosa.stft(s, n_fft = 1024, hop_length = 512)\n",
    "sn, sr = librosa.load('train_dirty_male.wav', sr = None)\n",
    "X = librosa.stft(sn, n_fft = 1024, hop_length = 512)"
   ]
  },
  {
   "cell_type": "code",
   "execution_count": 3,
   "metadata": {},
   "outputs": [
    {
     "name": "stdout",
     "output_type": "stream",
     "text": [
      "[[ 1.29152825e-02+0.0000000e+00j  8.45048483e-03+0.0000000e+00j\n",
      "  -2.07481943e-02+0.0000000e+00j ... -1.52135687e-02+0.0000000e+00j\n",
      "  -4.98118671e-03+0.0000000e+00j -7.75823556e-03+0.0000000e+00j]\n",
      " [-7.06597278e-03-4.3706900e-19j -6.94738980e-03+5.1884386e-03j\n",
      "   2.39305142e-02+3.3414264e-03j ...  1.20950164e-02-9.4868029e-03j\n",
      "  -3.12095246e-04-1.4751647e-03j  1.96925160e-02+6.0344348e-03j]\n",
      " [ 3.11613153e-03+2.0498197e-19j -1.59678720e-02-1.7763563e-02j\n",
      "   8.85831192e-03+8.3497362e-03j ... -1.23670641e-02+5.9306147e-03j\n",
      "   7.67358765e-03+2.1299278e-02j -2.82987002e-02+3.5692996e-04j]\n",
      " ...\n",
      " [ 5.43509632e-05+1.1858461e-20j -4.15163022e-03-1.1022503e-03j\n",
      "   1.19022408e-03-2.0613750e-03j ...  5.36997162e-04+7.6431502e-04j\n",
      "  -1.19794244e-02+7.1640010e-03j -9.00672283e-03-8.2842866e-03j]\n",
      " [-4.78351954e-04+4.2351647e-19j  2.63221073e-03-1.5408223e-03j\n",
      "   7.62302428e-04+5.9353854e-03j ... -3.81498365e-03-6.0208812e-03j\n",
      "   5.79493213e-03-3.9956453e-03j  1.48106953e-02+1.0228334e-02j]\n",
      " [ 6.20555074e-04+0.0000000e+00j -3.61816579e-04+0.0000000e+00j\n",
      "  -1.19814684e-03+0.0000000e+00j ...  1.59274472e-03+0.0000000e+00j\n",
      "  -4.55778325e-04+0.0000000e+00j -1.60748102e-02+0.0000000e+00j]]\n"
     ]
    }
   ],
   "source": [
    "# Printing the spectrograms\n",
    "print(X)"
   ]
  },
  {
   "cell_type": "code",
   "execution_count": 4,
   "metadata": {},
   "outputs": [],
   "source": [
    "# Getting the real valued equivalents of the spectrograms\n",
    "X_mod = abs(X)\n",
    "S_mod = abs(S)"
   ]
  },
  {
   "cell_type": "code",
   "execution_count": 5,
   "metadata": {},
   "outputs": [
    {
     "name": "stdout",
     "output_type": "stream",
     "text": [
      "(513, 2459) (513, 2459)\n"
     ]
    }
   ],
   "source": [
    "# Dimension of the spectrograms\n",
    "print(X_mod.shape, S_mod.shape)"
   ]
  },
  {
   "cell_type": "code",
   "execution_count": 6,
   "metadata": {},
   "outputs": [],
   "source": [
    "# Getting the transpose matrices for feeding to the 1-D CNN\n",
    "X_T = X_mod.T\n",
    "S_T = S_mod.T"
   ]
  },
  {
   "cell_type": "markdown",
   "metadata": {},
   "source": [
    "## 1-D CNN using low-level tf.nn operations with manual definitions for:\n",
    "### <ul><li>Kernel, Weight and Bias matrices</li><li>1-D Convolutions, Activation and pooling</li><li>Dropout</li><li>Fully Connected layer</li></ul>"
   ]
  },
  {
   "cell_type": "code",
   "execution_count": 7,
   "metadata": {},
   "outputs": [
    {
     "name": "stdout",
     "output_type": "stream",
     "text": [
      "WARNING:tensorflow:From <ipython-input-7-694cba1253aa>:33: calling dropout (from tensorflow.python.ops.nn_ops) with keep_prob is deprecated and will be removed in a future version.\n",
      "Instructions for updating:\n",
      "Please use `rate` instead of `keep_prob`. Rate should be set to `rate = 1 - keep_prob`.\n",
      "WARNING:tensorflow:From <ipython-input-7-694cba1253aa>:34: max_pooling1d (from tensorflow.python.layers.pooling) is deprecated and will be removed in a future version.\n",
      "Instructions for updating:\n",
      "Use keras.layers.MaxPooling1D instead.\n",
      "WARNING:tensorflow:From /usr/local/lib/python3.7/site-packages/tensorflow_core/python/layers/pooling.py:165: Layer.apply (from tensorflow.python.keras.engine.base_layer) is deprecated and will be removed in a future version.\n",
      "Instructions for updating:\n",
      "Please use `layer.__call__` method instead.\n",
      "WARNING:tensorflow:From <ipython-input-7-694cba1253aa>:43: flatten (from tensorflow.python.layers.core) is deprecated and will be removed in a future version.\n",
      "Instructions for updating:\n",
      "Use keras.layers.flatten instead.\n"
     ]
    }
   ],
   "source": [
    "CNN_1d = tf.Graph()\n",
    "\n",
    "with CNN_1d.as_default(): \n",
    "\n",
    "    X_nn = tf.placeholder(dtype = tf.float32,shape = [None, 513])\n",
    "    y_nn = tf.placeholder(dtype = tf.float32,shape = [None, 513])\n",
    "    keep_prob = tf.placeholder(dtype = tf.float32)\n",
    "\n",
    "    # Reshape the input | (batch_size,width) -> (batch_size,width,channels)\n",
    "    X_adj = tf.reshape(tensor = X_nn, shape = [tf.shape(X_nn)[0], 513, 1])\n",
    "\n",
    "    # Filter width in each layer\n",
    "    filters1_w = 20\n",
    "    filters2_w = 20\n",
    "    \n",
    "    # Filter number in each layer\n",
    "    conv1_filter_num = 30\n",
    "    conv2_filter_num = 30\n",
    "\n",
    "    # Defining Kernels using Glorot Uniform initialization and kernel shape = (filter_width, in_channels,  out_channels)\n",
    "    kernel1 = tf.get_variable(\"kernel1\", shape = [filters1_w, 1, conv1_filter_num], initializer = tf.glorot_uniform_initializer)\n",
    "    kernel2 = tf.get_variable(\"kernel2\", shape = [filters2_w, conv1_filter_num, conv2_filter_num], initializer = tf.glorot_uniform_initializer)\n",
    "\n",
    "    # Weight matrix and bias for the last fully connected layers initialized using Glorot Uniform Initializer\n",
    "    weights_fc1 = tf.get_variable(\"weights_fc1\", shape = [1650, 806], initializer = tf.glorot_uniform_initializer)\n",
    "    bias_fc1 = tf.get_variable(\"bias_fc1\", shape = [806], initializer = tf.glorot_uniform_initializer)\n",
    "    weights_fc2 = tf.get_variable(\"weights_fc2\", shape = [806, 513], initializer = tf.glorot_uniform_initializer)\n",
    "    bias_fc2 = tf.get_variable(\"bias_fc2\", shape = [513], initializer = tf.glorot_uniform_initializer)\n",
    "\n",
    "    # Complex convolution layer 1\n",
    "    conv1 = tf.nn.conv1d(value = X_adj, filters = kernel1, padding = 'VALID', stride = 2)\n",
    "    act1 = tf.nn.relu(conv1)\n",
    "    drop1 = tf.nn.dropout(act1, keep_prob)\n",
    "    pool1 = tf.layers.max_pooling1d(inputs = drop1, pool_size = 5, padding = 'valid', strides = 2)\n",
    "\n",
    "    # Complex convolution layer 2\n",
    "    conv2 = tf.nn.conv1d(value = drop1, filters = kernel2, padding = 'VALID', stride = 2)\n",
    "    act2 = tf.nn.relu(conv2)\n",
    "    drop2 = tf.nn.dropout(act2, keep_prob)\n",
    "    pool2 = tf.layers.max_pooling1d(inputs = drop2, pool_size = 5, padding = 'valid', strides = 2)\n",
    "\n",
    "    # Fully connected layer 1\n",
    "    fc_input = tf.layers.flatten(pool2)\n",
    "    fc1 = tf.add(tf.matmul(fc_input, weights_fc1), bias_fc1)\n",
    "    fc1_act = tf.nn.relu(fc1)\n",
    "\n",
    "    # Fully connected layer 2\n",
    "    fc2 = tf.add(tf.matmul(fc1_act, weights_fc2), bias_fc2)\n",
    "    \n",
    "    fc_act = tf.nn.relu(fc2) # Final output\n",
    "\n",
    "    loss = tf.reduce_sum(tf.squared_difference(fc_act, y_nn))\n",
    "    optimizer = tf.train.AdamOptimizer(1e-04).minimize(loss)\n"
   ]
  },
  {
   "cell_type": "markdown",
   "metadata": {},
   "source": [
    "## Training the 1-D CNN Model"
   ]
  },
  {
   "cell_type": "code",
   "execution_count": 8,
   "metadata": {},
   "outputs": [
    {
     "name": "stdout",
     "output_type": "stream",
     "text": [
      "1000/1000 [==============================] - 363s 363ms/step\n"
     ]
    }
   ],
   "source": [
    "with CNN_1d.as_default():\n",
    "    \n",
    "    sess = tf.Session()\n",
    "    sess.run(tf.global_variables_initializer())\n",
    "\n",
    "    max_epochs = 1000\n",
    "    batch_size = 19\n",
    "    progbar = tf.keras.utils.Progbar(max_epochs)\n",
    "    train_losses = []\n",
    "\n",
    "    for epoch in range(max_epochs):\n",
    "        random_batches = np.random.choice(X_T.shape[0], size = (int(513/batch_size), batch_size))\n",
    "        loss_epoch = []\n",
    "        for batch_num in range(random_batches.shape[0]): # Keep last batch for validation\n",
    "            loss_batch,_ = sess.run([loss, optimizer], feed_dict = {X_nn : X_T[random_batches[batch_num]], y_nn : S_T[random_batches[batch_num]], keep_prob : 0.8})\n",
    "            loss_epoch.append(loss_batch)\n",
    "\n",
    "        train_losses.append(sum(loss_epoch)/len(loss_epoch))\n",
    "        progbar.update(epoch+1)"
   ]
  },
  {
   "cell_type": "markdown",
   "metadata": {},
   "source": [
    "## Plot of Loss vs Epochs "
   ]
  },
  {
   "cell_type": "code",
   "execution_count": 9,
   "metadata": {},
   "outputs": [
    {
     "data": {
      "image/png": "[encoded data removed]",
      "text/plain": [
       "<Figure size 1440x720 with 1 Axes>"
      ]
     },
     "metadata": {
      "needs_background": "light"
     },
     "output_type": "display_data"
    }
   ],
   "source": [
    "plt.rcParams[\"figure.figsize\"] = (20,10)\n",
    "plt.plot([i for i in range(max_epochs)],train_losses,'b')\n",
    "plt.title(\"Mean loss per epoch vs number of epochs\")\n",
    "plt.ylabel(\"Mean loss per epoch\")\n",
    "plt.xlabel(\"Number of epochs\")\n",
    "plt.show()"
   ]
  },
  {
   "cell_type": "markdown",
   "metadata": {},
   "source": [
    "## Obtaining the prediction for training signal with 1-D CNN"
   ]
  },
  {
   "cell_type": "code",
   "execution_count": 10,
   "metadata": {},
   "outputs": [],
   "source": [
    "S_T1_predicted_T = sess.run(fc_act,{X_nn: X_T, keep_prob: 1}) # Feed train data to the 1-D CNN to get the output\n",
    "S_T1_predicted = S_T1_predicted_T.T                          # Take the transpose\n",
    "S_T1_hat = np.multiply(np.divide(X,X_mod), S_T1_predicted)  # The predicted S_hat\n",
    "S_T1 = librosa.istft(S_T1_hat, hop_length = 512)           # Apply inverse STFT using librosa\n",
    "librosa.output.write_wav('train_1D_recon.wav', S_T1, sr)"
   ]
  },
  {
   "cell_type": "markdown",
   "metadata": {},
   "source": [
    "## SNR of the training audio signal\n",
    "## SNR = 10 log<sub>10</sub> $\\frac{\\sum_{t}^{} ( s ( t ) )^2} {\\sum_{t}^{} ( s ( t ) - \\hat{s} ( t ) )^2}$ "
   ]
  },
  {
   "cell_type": "code",
   "execution_count": 11,
   "metadata": {},
   "outputs": [
    {
     "name": "stdout",
     "output_type": "stream",
     "text": [
      "SNR of reconstructed training signal =  15.826036004466033 db\n"
     ]
    }
   ],
   "source": [
    "# Formula to calculate SNR\n",
    "snr = 10 * np.log10(np.sum(np.square(S)) / np.sum(np.square(np.subtract(S, S_T1_hat))))\n",
    "print(\"SNR of reconstructed training signal = \", abs(snr), \"db\")"
   ]
  },
  {
   "cell_type": "markdown",
   "metadata": {},
   "source": [
    "## Testing the 1-D CNN model on test signal 1 (test_x_01.wav)"
   ]
  },
  {
   "cell_type": "code",
   "execution_count": 12,
   "metadata": {},
   "outputs": [],
   "source": [
    "s3, sr = librosa.load('test_x_01.wav', sr = None)\n",
    "T1 = librosa.stft(s3, n_fft = 1024, hop_length = 512) # STFT on test_x_01\n",
    "T1_mod = np.abs(T1) # Magnitude of Test signal\n",
    "T1_T = T1_mod.T     # Transpose\n",
    "with CNN_1d.as_default():\n",
    "    S_T1_predicted_T = sess.run(fc_act,{X_nn:T1_T,keep_prob:1})\n",
    "S_T1_predicted = S_T1_predicted_T.T         # Take the transpose\n",
    "S_T1_hat = np.multiply(np.divide(T1,T1_mod),S_T1_predicted)  # The predicted S_hat\n",
    "S_T1 = librosa.istft(S_T1_hat,hop_length=512)   # Apply inverse STFT\n",
    "librosa.output.write_wav('test_s_01_1D_CNN_recon.wav', S_T1, sr)"
   ]
  },
  {
   "cell_type": "markdown",
   "metadata": {},
   "source": [
    "## Testing the 1-D CNN model on test signal 2 (test_x_02.wav)"
   ]
  },
  {
   "cell_type": "code",
   "execution_count": 13,
   "metadata": {},
   "outputs": [],
   "source": [
    "s3, sr = librosa.load('test_x_02.wav', sr = None)\n",
    "T1 = librosa.stft(s3, n_fft = 1024, hop_length = 512) # STFT on test_x_02\n",
    "T1_mod = np.abs(T1) # Magnitude of T1\n",
    "T1_T = T1_mod.T     # Transpose\n",
    "with CNN_1d.as_default():\n",
    "    S_T1_predicted_T = sess.run(fc_act,{X_nn:T1_T,keep_prob:1})\n",
    "S_T1_predicted = S_T1_predicted_T.T # Transpose\n",
    "S_T1_hat = np.multiply(np.divide(T1,T1_mod),S_T1_predicted) # Predicted S_hat\n",
    "S_T1 = librosa.istft(S_T1_hat,hop_length=512) # Inverse STFT\n",
    "librosa.output.write_wav('test_s_02_1D_CNN_recon.wav', S_T1, sr)"
   ]
  },
  {
   "cell_type": "code",
   "execution_count": 14,
   "metadata": {},
   "outputs": [],
   "source": [
    "sess.close() # End the session"
   ]
  },
  {
   "cell_type": "code",
   "execution_count": null,
   "metadata": {},
   "outputs": [],
   "source": []
  }
 ],
 "metadata": {
  "kernelspec": {
   "display_name": "Python 3",
   "language": "python",
   "name": "python3"
  },
  "language_info": {
   "codemirror_mode": {
    "name": "ipython",
    "version": 3
   },
   "file_extension": ".py",
   "mimetype": "text/x-python",
   "name": "python",
   "nbconvert_exporter": "python",
   "pygments_lexer": "ipython3",
   "version": "3.7.4"
  }
 },
 "nbformat": 4,
 "nbformat_minor": 2
}
